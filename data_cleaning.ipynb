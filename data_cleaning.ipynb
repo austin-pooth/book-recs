{
 "cells": [
  {
   "cell_type": "code",
   "execution_count": 1,
   "id": "ad3c4aa2-924e-4d64-b2bc-aef4783421f6",
   "metadata": {},
   "outputs": [],
   "source": [
    "import pandas as pd\n",
    "import json\n",
    "import matplotlib.pyplot as plt\n",
    "import seaborn as sns"
   ]
  },
  {
   "cell_type": "markdown",
   "id": "d3616cbc-2474-4e67-aa44-fa1e529cee8b",
   "metadata": {},
   "source": [
    "## Import the data\n",
    "\n",
    "For this project, I am using the [CMU Book Summary Dataset](https://www.cs.cmu.edu/~dbamman/booksummaries.html). It consists of metadata and summaries for 16,559 books from Wikipedia."
   ]
  },
  {
   "cell_type": "code",
   "execution_count": 3,
   "id": "2e99fbe4-0127-40b0-ac60-0de902241deb",
   "metadata": {},
   "outputs": [
    {
     "data": {
      "text/html": [
       "<div>\n",
       "<style scoped>\n",
       "    .dataframe tbody tr th:only-of-type {\n",
       "        vertical-align: middle;\n",
       "    }\n",
       "\n",
       "    .dataframe tbody tr th {\n",
       "        vertical-align: top;\n",
       "    }\n",
       "\n",
       "    .dataframe thead th {\n",
       "        text-align: right;\n",
       "    }\n",
       "</style>\n",
       "<table border=\"1\" class=\"dataframe\">\n",
       "  <thead>\n",
       "    <tr style=\"text-align: right;\">\n",
       "      <th></th>\n",
       "      <th>Wikipedia ID</th>\n",
       "      <th>Freebase ID</th>\n",
       "      <th>Title</th>\n",
       "      <th>Author</th>\n",
       "      <th>Publication Date</th>\n",
       "      <th>Genres</th>\n",
       "      <th>Plot Summary</th>\n",
       "    </tr>\n",
       "  </thead>\n",
       "  <tbody>\n",
       "    <tr>\n",
       "      <th>0</th>\n",
       "      <td>620</td>\n",
       "      <td>/m/0hhy</td>\n",
       "      <td>Animal Farm</td>\n",
       "      <td>George Orwell</td>\n",
       "      <td>1945-08-17</td>\n",
       "      <td>{\"/m/016lj8\": \"Roman \\u00e0 clef\", \"/m/06nbt\":...</td>\n",
       "      <td>Old Major, the old boar on the Manor Farm, ca...</td>\n",
       "    </tr>\n",
       "    <tr>\n",
       "      <th>1</th>\n",
       "      <td>843</td>\n",
       "      <td>/m/0k36</td>\n",
       "      <td>A Clockwork Orange</td>\n",
       "      <td>Anthony Burgess</td>\n",
       "      <td>1962</td>\n",
       "      <td>{\"/m/06n90\": \"Science Fiction\", \"/m/0l67h\": \"N...</td>\n",
       "      <td>Alex, a teenager living in near-future Englan...</td>\n",
       "    </tr>\n",
       "    <tr>\n",
       "      <th>2</th>\n",
       "      <td>986</td>\n",
       "      <td>/m/0ldx</td>\n",
       "      <td>The Plague</td>\n",
       "      <td>Albert Camus</td>\n",
       "      <td>1947</td>\n",
       "      <td>{\"/m/02m4t\": \"Existentialism\", \"/m/02xlf\": \"Fi...</td>\n",
       "      <td>The text of The Plague is divided into five p...</td>\n",
       "    </tr>\n",
       "    <tr>\n",
       "      <th>3</th>\n",
       "      <td>1756</td>\n",
       "      <td>/m/0sww</td>\n",
       "      <td>An Enquiry Concerning Human Understanding</td>\n",
       "      <td>David Hume</td>\n",
       "      <td>NaN</td>\n",
       "      <td>NaN</td>\n",
       "      <td>The argument of the Enquiry proceeds by a ser...</td>\n",
       "    </tr>\n",
       "    <tr>\n",
       "      <th>4</th>\n",
       "      <td>2080</td>\n",
       "      <td>/m/0wkt</td>\n",
       "      <td>A Fire Upon the Deep</td>\n",
       "      <td>Vernor Vinge</td>\n",
       "      <td>NaN</td>\n",
       "      <td>{\"/m/03lrw\": \"Hard science fiction\", \"/m/06n90...</td>\n",
       "      <td>The novel posits that space around the Milky ...</td>\n",
       "    </tr>\n",
       "  </tbody>\n",
       "</table>\n",
       "</div>"
      ],
      "text/plain": [
       "   Wikipedia ID Freebase ID                                      Title  \\\n",
       "0           620     /m/0hhy                                Animal Farm   \n",
       "1           843     /m/0k36                         A Clockwork Orange   \n",
       "2           986     /m/0ldx                                 The Plague   \n",
       "3          1756     /m/0sww  An Enquiry Concerning Human Understanding   \n",
       "4          2080     /m/0wkt                       A Fire Upon the Deep   \n",
       "\n",
       "            Author Publication Date  \\\n",
       "0    George Orwell       1945-08-17   \n",
       "1  Anthony Burgess             1962   \n",
       "2     Albert Camus             1947   \n",
       "3       David Hume              NaN   \n",
       "4     Vernor Vinge              NaN   \n",
       "\n",
       "                                              Genres  \\\n",
       "0  {\"/m/016lj8\": \"Roman \\u00e0 clef\", \"/m/06nbt\":...   \n",
       "1  {\"/m/06n90\": \"Science Fiction\", \"/m/0l67h\": \"N...   \n",
       "2  {\"/m/02m4t\": \"Existentialism\", \"/m/02xlf\": \"Fi...   \n",
       "3                                                NaN   \n",
       "4  {\"/m/03lrw\": \"Hard science fiction\", \"/m/06n90...   \n",
       "\n",
       "                                        Plot Summary  \n",
       "0   Old Major, the old boar on the Manor Farm, ca...  \n",
       "1   Alex, a teenager living in near-future Englan...  \n",
       "2   The text of The Plague is divided into five p...  \n",
       "3   The argument of the Enquiry proceeds by a ser...  \n",
       "4   The novel posits that space around the Milky ...  "
      ]
     },
     "execution_count": 3,
     "metadata": {},
     "output_type": "execute_result"
    }
   ],
   "source": [
    "colnames = ['Wikipedia ID', 'Freebase ID', 'Title', 'Author', 'Publication Date','Genres','Plot Summary']\n",
    "df = pd.read_csv('data/booksummaries.txt',sep='\\t',header=None, names=colnames)\n",
    "df.head()"
   ]
  },
  {
   "cell_type": "markdown",
   "id": "1afc537d-50ff-46e3-959d-861c14bb299b",
   "metadata": {},
   "source": [
    "---"
   ]
  },
  {
   "cell_type": "markdown",
   "id": "c9650a6b-01c4-4889-9b39-5aff0f5b2ed6",
   "metadata": {},
   "source": [
    "Clean the data to remove JSON formatting in the generes column, and then select our columns of interest for our model."
   ]
  },
  {
   "cell_type": "code",
   "execution_count": 6,
   "id": "88bdb602-7529-49b5-af32-e57b1ff96942",
   "metadata": {},
   "outputs": [],
   "source": [
    "data_json = df['Genres'].apply(lambda x: json.loads(x) if isinstance(x, str) and x.strip() != '' else None)\n",
    "\n",
    "df['Genres'] = data_json.apply(lambda x: list(x.values()) if x else [])"
   ]
  },
  {
   "cell_type": "code",
   "execution_count": 7,
   "id": "663473d8-9950-4e2f-9398-bb6cd63cd787",
   "metadata": {},
   "outputs": [
    {
     "data": {
      "text/html": [
       "<div>\n",
       "<style scoped>\n",
       "    .dataframe tbody tr th:only-of-type {\n",
       "        vertical-align: middle;\n",
       "    }\n",
       "\n",
       "    .dataframe tbody tr th {\n",
       "        vertical-align: top;\n",
       "    }\n",
       "\n",
       "    .dataframe thead th {\n",
       "        text-align: right;\n",
       "    }\n",
       "</style>\n",
       "<table border=\"1\" class=\"dataframe\">\n",
       "  <thead>\n",
       "    <tr style=\"text-align: right;\">\n",
       "      <th></th>\n",
       "      <th>Wikipedia ID</th>\n",
       "      <th>Freebase ID</th>\n",
       "      <th>Title</th>\n",
       "      <th>Author</th>\n",
       "      <th>Publication Date</th>\n",
       "      <th>Genres</th>\n",
       "      <th>Plot Summary</th>\n",
       "    </tr>\n",
       "  </thead>\n",
       "  <tbody>\n",
       "    <tr>\n",
       "      <th>0</th>\n",
       "      <td>620</td>\n",
       "      <td>/m/0hhy</td>\n",
       "      <td>Animal Farm</td>\n",
       "      <td>George Orwell</td>\n",
       "      <td>1945-08-17</td>\n",
       "      <td>[Roman à clef, Satire, Children's literature, ...</td>\n",
       "      <td>Old Major, the old boar on the Manor Farm, ca...</td>\n",
       "    </tr>\n",
       "    <tr>\n",
       "      <th>1</th>\n",
       "      <td>843</td>\n",
       "      <td>/m/0k36</td>\n",
       "      <td>A Clockwork Orange</td>\n",
       "      <td>Anthony Burgess</td>\n",
       "      <td>1962</td>\n",
       "      <td>[Science Fiction, Novella, Speculative fiction...</td>\n",
       "      <td>Alex, a teenager living in near-future Englan...</td>\n",
       "    </tr>\n",
       "    <tr>\n",
       "      <th>2</th>\n",
       "      <td>986</td>\n",
       "      <td>/m/0ldx</td>\n",
       "      <td>The Plague</td>\n",
       "      <td>Albert Camus</td>\n",
       "      <td>1947</td>\n",
       "      <td>[Existentialism, Fiction, Absurdist fiction, N...</td>\n",
       "      <td>The text of The Plague is divided into five p...</td>\n",
       "    </tr>\n",
       "    <tr>\n",
       "      <th>3</th>\n",
       "      <td>1756</td>\n",
       "      <td>/m/0sww</td>\n",
       "      <td>An Enquiry Concerning Human Understanding</td>\n",
       "      <td>David Hume</td>\n",
       "      <td>NaN</td>\n",
       "      <td>[]</td>\n",
       "      <td>The argument of the Enquiry proceeds by a ser...</td>\n",
       "    </tr>\n",
       "    <tr>\n",
       "      <th>4</th>\n",
       "      <td>2080</td>\n",
       "      <td>/m/0wkt</td>\n",
       "      <td>A Fire Upon the Deep</td>\n",
       "      <td>Vernor Vinge</td>\n",
       "      <td>NaN</td>\n",
       "      <td>[Hard science fiction, Science Fiction, Specul...</td>\n",
       "      <td>The novel posits that space around the Milky ...</td>\n",
       "    </tr>\n",
       "  </tbody>\n",
       "</table>\n",
       "</div>"
      ],
      "text/plain": [
       "   Wikipedia ID Freebase ID                                      Title  \\\n",
       "0           620     /m/0hhy                                Animal Farm   \n",
       "1           843     /m/0k36                         A Clockwork Orange   \n",
       "2           986     /m/0ldx                                 The Plague   \n",
       "3          1756     /m/0sww  An Enquiry Concerning Human Understanding   \n",
       "4          2080     /m/0wkt                       A Fire Upon the Deep   \n",
       "\n",
       "            Author Publication Date  \\\n",
       "0    George Orwell       1945-08-17   \n",
       "1  Anthony Burgess             1962   \n",
       "2     Albert Camus             1947   \n",
       "3       David Hume              NaN   \n",
       "4     Vernor Vinge              NaN   \n",
       "\n",
       "                                              Genres  \\\n",
       "0  [Roman à clef, Satire, Children's literature, ...   \n",
       "1  [Science Fiction, Novella, Speculative fiction...   \n",
       "2  [Existentialism, Fiction, Absurdist fiction, N...   \n",
       "3                                                 []   \n",
       "4  [Hard science fiction, Science Fiction, Specul...   \n",
       "\n",
       "                                        Plot Summary  \n",
       "0   Old Major, the old boar on the Manor Farm, ca...  \n",
       "1   Alex, a teenager living in near-future Englan...  \n",
       "2   The text of The Plague is divided into five p...  \n",
       "3   The argument of the Enquiry proceeds by a ser...  \n",
       "4   The novel posits that space around the Milky ...  "
      ]
     },
     "execution_count": 7,
     "metadata": {},
     "output_type": "execute_result"
    }
   ],
   "source": [
    "df.head()"
   ]
  },
  {
   "cell_type": "code",
   "execution_count": 37,
   "id": "fc7d338b-c15a-4491-8530-ced5595b1b56",
   "metadata": {},
   "outputs": [
    {
     "data": {
      "text/html": [
       "<div>\n",
       "<style scoped>\n",
       "    .dataframe tbody tr th:only-of-type {\n",
       "        vertical-align: middle;\n",
       "    }\n",
       "\n",
       "    .dataframe tbody tr th {\n",
       "        vertical-align: top;\n",
       "    }\n",
       "\n",
       "    .dataframe thead th {\n",
       "        text-align: right;\n",
       "    }\n",
       "</style>\n",
       "<table border=\"1\" class=\"dataframe\">\n",
       "  <thead>\n",
       "    <tr style=\"text-align: right;\">\n",
       "      <th></th>\n",
       "      <th>Wikipedia ID</th>\n",
       "      <th>Title</th>\n",
       "      <th>Author</th>\n",
       "      <th>Publication Date</th>\n",
       "      <th>Genres</th>\n",
       "      <th>Plot Summary</th>\n",
       "    </tr>\n",
       "  </thead>\n",
       "  <tbody>\n",
       "    <tr>\n",
       "      <th>0</th>\n",
       "      <td>620</td>\n",
       "      <td>Animal Farm</td>\n",
       "      <td>George Orwell</td>\n",
       "      <td>1945-08-17</td>\n",
       "      <td>[Roman à clef, Satire, Children's literature, ...</td>\n",
       "      <td>Old Major, the old boar on the Manor Farm, ca...</td>\n",
       "    </tr>\n",
       "    <tr>\n",
       "      <th>1</th>\n",
       "      <td>843</td>\n",
       "      <td>A Clockwork Orange</td>\n",
       "      <td>Anthony Burgess</td>\n",
       "      <td>1962</td>\n",
       "      <td>[Science Fiction, Novella, Speculative fiction...</td>\n",
       "      <td>Alex, a teenager living in near-future Englan...</td>\n",
       "    </tr>\n",
       "    <tr>\n",
       "      <th>2</th>\n",
       "      <td>986</td>\n",
       "      <td>The Plague</td>\n",
       "      <td>Albert Camus</td>\n",
       "      <td>1947</td>\n",
       "      <td>[Existentialism, Fiction, Absurdist fiction, N...</td>\n",
       "      <td>The text of The Plague is divided into five p...</td>\n",
       "    </tr>\n",
       "    <tr>\n",
       "      <th>3</th>\n",
       "      <td>1756</td>\n",
       "      <td>An Enquiry Concerning Human Understanding</td>\n",
       "      <td>David Hume</td>\n",
       "      <td>NaN</td>\n",
       "      <td>[]</td>\n",
       "      <td>The argument of the Enquiry proceeds by a ser...</td>\n",
       "    </tr>\n",
       "    <tr>\n",
       "      <th>4</th>\n",
       "      <td>2080</td>\n",
       "      <td>A Fire Upon the Deep</td>\n",
       "      <td>Vernor Vinge</td>\n",
       "      <td>NaN</td>\n",
       "      <td>[Hard science fiction, Science Fiction, Specul...</td>\n",
       "      <td>The novel posits that space around the Milky ...</td>\n",
       "    </tr>\n",
       "  </tbody>\n",
       "</table>\n",
       "</div>"
      ],
      "text/plain": [
       "   Wikipedia ID                                      Title           Author  \\\n",
       "0           620                                Animal Farm    George Orwell   \n",
       "1           843                         A Clockwork Orange  Anthony Burgess   \n",
       "2           986                                 The Plague     Albert Camus   \n",
       "3          1756  An Enquiry Concerning Human Understanding       David Hume   \n",
       "4          2080                       A Fire Upon the Deep     Vernor Vinge   \n",
       "\n",
       "  Publication Date                                             Genres  \\\n",
       "0       1945-08-17  [Roman à clef, Satire, Children's literature, ...   \n",
       "1             1962  [Science Fiction, Novella, Speculative fiction...   \n",
       "2             1947  [Existentialism, Fiction, Absurdist fiction, N...   \n",
       "3              NaN                                                 []   \n",
       "4              NaN  [Hard science fiction, Science Fiction, Specul...   \n",
       "\n",
       "                                        Plot Summary  \n",
       "0   Old Major, the old boar on the Manor Farm, ca...  \n",
       "1   Alex, a teenager living in near-future Englan...  \n",
       "2   The text of The Plague is divided into five p...  \n",
       "3   The argument of the Enquiry proceeds by a ser...  \n",
       "4   The novel posits that space around the Milky ...  "
      ]
     },
     "execution_count": 37,
     "metadata": {},
     "output_type": "execute_result"
    }
   ],
   "source": [
    "data = df[['Wikipedia ID','Title','Author','Publication Date','Genres','Plot Summary']]\n",
    "data.head()"
   ]
  },
  {
   "cell_type": "markdown",
   "id": "1838c672-3fe8-42b3-af79-f1bb51000dc7",
   "metadata": {},
   "source": [
    "Convert the strings to lower-case"
   ]
  },
  {
   "cell_type": "code",
   "execution_count": 39,
   "id": "34c6923c-e9fb-4563-ad39-0f4a732779c8",
   "metadata": {},
   "outputs": [],
   "source": [
    "data.loc[:,['Plot Summary', 'Title', 'Author']]=data[['Plot Summary', 'Title', 'Author']].apply(lambda x: x.str.lower())\n",
    "data.loc[:,'Genres'] = data['Genres'].apply(lambda x: [item.lower() for item in x])"
   ]
  },
  {
   "cell_type": "markdown",
   "id": "b132c783-7bfe-4191-8e17-49423355fa23",
   "metadata": {},
   "source": [
    "Covert the genre column to a single string for each book"
   ]
  },
  {
   "cell_type": "code",
   "execution_count": 41,
   "id": "96df4a77-7e60-4ba8-a3a2-3888a33501bf",
   "metadata": {},
   "outputs": [
    {
     "data": {
      "text/html": [
       "<div>\n",
       "<style scoped>\n",
       "    .dataframe tbody tr th:only-of-type {\n",
       "        vertical-align: middle;\n",
       "    }\n",
       "\n",
       "    .dataframe tbody tr th {\n",
       "        vertical-align: top;\n",
       "    }\n",
       "\n",
       "    .dataframe thead th {\n",
       "        text-align: right;\n",
       "    }\n",
       "</style>\n",
       "<table border=\"1\" class=\"dataframe\">\n",
       "  <thead>\n",
       "    <tr style=\"text-align: right;\">\n",
       "      <th></th>\n",
       "      <th>Wikipedia ID</th>\n",
       "      <th>Title</th>\n",
       "      <th>Author</th>\n",
       "      <th>Publication Date</th>\n",
       "      <th>Genres</th>\n",
       "      <th>Plot Summary</th>\n",
       "    </tr>\n",
       "  </thead>\n",
       "  <tbody>\n",
       "    <tr>\n",
       "      <th>0</th>\n",
       "      <td>620</td>\n",
       "      <td>animal farm</td>\n",
       "      <td>george orwell</td>\n",
       "      <td>1945-08-17</td>\n",
       "      <td>roman à clef satire children's literature spec...</td>\n",
       "      <td>old major, the old boar on the manor farm, ca...</td>\n",
       "    </tr>\n",
       "    <tr>\n",
       "      <th>1</th>\n",
       "      <td>843</td>\n",
       "      <td>a clockwork orange</td>\n",
       "      <td>anthony burgess</td>\n",
       "      <td>1962</td>\n",
       "      <td>science fiction novella speculative fiction ut...</td>\n",
       "      <td>alex, a teenager living in near-future englan...</td>\n",
       "    </tr>\n",
       "    <tr>\n",
       "      <th>2</th>\n",
       "      <td>986</td>\n",
       "      <td>the plague</td>\n",
       "      <td>albert camus</td>\n",
       "      <td>1947</td>\n",
       "      <td>existentialism fiction absurdist fiction novel</td>\n",
       "      <td>the text of the plague is divided into five p...</td>\n",
       "    </tr>\n",
       "    <tr>\n",
       "      <th>3</th>\n",
       "      <td>1756</td>\n",
       "      <td>an enquiry concerning human understanding</td>\n",
       "      <td>david hume</td>\n",
       "      <td>NaN</td>\n",
       "      <td></td>\n",
       "      <td>the argument of the enquiry proceeds by a ser...</td>\n",
       "    </tr>\n",
       "    <tr>\n",
       "      <th>4</th>\n",
       "      <td>2080</td>\n",
       "      <td>a fire upon the deep</td>\n",
       "      <td>vernor vinge</td>\n",
       "      <td>NaN</td>\n",
       "      <td>hard science fiction science fiction speculati...</td>\n",
       "      <td>the novel posits that space around the milky ...</td>\n",
       "    </tr>\n",
       "  </tbody>\n",
       "</table>\n",
       "</div>"
      ],
      "text/plain": [
       "   Wikipedia ID                                      Title           Author  \\\n",
       "0           620                                animal farm    george orwell   \n",
       "1           843                         a clockwork orange  anthony burgess   \n",
       "2           986                                 the plague     albert camus   \n",
       "3          1756  an enquiry concerning human understanding       david hume   \n",
       "4          2080                       a fire upon the deep     vernor vinge   \n",
       "\n",
       "  Publication Date                                             Genres  \\\n",
       "0       1945-08-17  roman à clef satire children's literature spec...   \n",
       "1             1962  science fiction novella speculative fiction ut...   \n",
       "2             1947     existentialism fiction absurdist fiction novel   \n",
       "3              NaN                                                      \n",
       "4              NaN  hard science fiction science fiction speculati...   \n",
       "\n",
       "                                        Plot Summary  \n",
       "0   old major, the old boar on the manor farm, ca...  \n",
       "1   alex, a teenager living in near-future englan...  \n",
       "2   the text of the plague is divided into five p...  \n",
       "3   the argument of the enquiry proceeds by a ser...  \n",
       "4   the novel posits that space around the milky ...  "
      ]
     },
     "execution_count": 41,
     "metadata": {},
     "output_type": "execute_result"
    }
   ],
   "source": [
    "data.loc[:,'Genres']=data['Genres'].apply(lambda x: ' '.join(x))\n",
    "data.head()"
   ]
  },
  {
   "cell_type": "markdown",
   "id": "0b883a49-72b5-4b67-ab60-f7bb0d0d3c2b",
   "metadata": {},
   "source": [
    "---"
   ]
  },
  {
   "cell_type": "markdown",
   "id": "2c23e796-ba4a-4233-9dd8-6e63c58a0fba",
   "metadata": {},
   "source": [
    "## Exploratory Data Analysis"
   ]
  },
  {
   "cell_type": "code",
   "execution_count": 13,
   "id": "39474c9a-dcd4-40e9-9f09-64322d117308",
   "metadata": {},
   "outputs": [
    {
     "name": "stdout",
     "output_type": "stream",
     "text": [
      "<class 'pandas.core.frame.DataFrame'>\n",
      "RangeIndex: 16559 entries, 0 to 16558\n",
      "Data columns (total 6 columns):\n",
      " #   Column            Non-Null Count  Dtype \n",
      "---  ------            --------------  ----- \n",
      " 0   Wikipedia ID      16559 non-null  int64 \n",
      " 1   Title             16559 non-null  object\n",
      " 2   Author            14177 non-null  object\n",
      " 3   Publication Date  10949 non-null  object\n",
      " 4   Genres            16559 non-null  object\n",
      " 5   Plot Summary      16559 non-null  object\n",
      "dtypes: int64(1), object(5)\n",
      "memory usage: 776.3+ KB\n"
     ]
    }
   ],
   "source": [
    "# summary of data frame\n",
    "data.info()"
   ]
  },
  {
   "cell_type": "code",
   "execution_count": 14,
   "id": "56d1ec50-7c65-4982-9b36-2e93c52b2a05",
   "metadata": {},
   "outputs": [
    {
     "data": {
      "image/png": "[encoded data removed]",
      "text/plain": [
       "<Figure size 1000x600 with 1 Axes>"
      ]
     },
     "metadata": {},
     "output_type": "display_data"
    }
   ],
   "source": [
    "# distribution of years\n",
    "years = pd.to_datetime(data['Publication Date'],format='mixed',errors='coerce')\n",
    "\n",
    "sns.color_palette(\"deep\")\n",
    "plt.figure(figsize=(10, 6))\n",
    "sns.histplot(years, bins=10)\n",
    "plt.title('Distribution of Publication Years')\n",
    "plt.xlabel('Year')\n",
    "plt.ylabel('Frequency')\n",
    "plt.show()"
   ]
  },
  {
   "cell_type": "code",
   "execution_count": 15,
   "id": "f8fb280a-ae24-466e-a19b-3e345266eb90",
   "metadata": {},
   "outputs": [
    {
     "data": {
      "image/png": "[encoded data removed]",
      "text/plain": [
       "<Figure size 1000x600 with 1 Axes>"
      ]
     },
     "metadata": {},
     "output_type": "display_data"
    }
   ],
   "source": [
    "# 10 most common genres\n",
    "genres_list = [genre for sublist in data['Genres'] for genre in sublist]\n",
    "genre_count = pd.Series(genres_list).value_counts()\n",
    "\n",
    "plt.figure(figsize=(10, 6))\n",
    "genre_count.head(10).plot(kind='bar', color = 'orange')\n",
    "plt.title('10 Most Common Genres')\n",
    "plt.xlabel('Genre')\n",
    "plt.ylabel('Frequency')\n",
    "plt.xticks(rotation=35)\n",
    "plt.show()"
   ]
  },
  {
   "cell_type": "markdown",
   "id": "4391237e-a284-4bf5-a41b-8e1eb6b3a054",
   "metadata": {},
   "source": [
    "## Save the modified dataset"
   ]
  },
  {
   "cell_type": "code",
   "execution_count": 17,
   "id": "7a569213-e02c-4231-8809-0f9794edd0a6",
   "metadata": {},
   "outputs": [],
   "source": [
    "data.to_pickle(\"data/modified_data\")"
   ]
  }
 ],
 "metadata": {
  "kernelspec": {
   "display_name": "Python 3 (ipykernel)",
   "language": "python",
   "name": "python3"
  },
  "language_info": {
   "codemirror_mode": {
    "name": "ipython",
    "version": 3
   },
   "file_extension": ".py",
   "mimetype": "text/x-python",
   "name": "python",
   "nbconvert_exporter": "python",
   "pygments_lexer": "ipython3",
   "version": "3.12.4"
  }
 },
 "nbformat": 4,
 "nbformat_minor": 5
}
