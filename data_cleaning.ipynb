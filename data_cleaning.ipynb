{
 "cells": [
  {
   "cell_type": "code",
   "execution_count": 41,
   "id": "ad3c4aa2-924e-4d64-b2bc-aef4783421f6",
   "metadata": {},
   "outputs": [],
   "source": [
    "import pandas as pd\n",
    "import json"
   ]
  },
  {
   "cell_type": "code",
   "execution_count": 87,
   "id": "2e99fbe4-0127-40b0-ac60-0de902241deb",
   "metadata": {},
   "outputs": [],
   "source": [
    "colnames = ['Wikipedia ID', 'Freebase ID', 'Title', 'Author', 'Publication Date','Genres','Plot Summary']\n",
    "df = pd.read_csv('data/booksummaries.txt',sep='\\t',header=None, names=colnames)"
   ]
  },
  {
   "cell_type": "code",
   "execution_count": 111,
   "id": "88bdb602-7529-49b5-af32-e57b1ff96942",
   "metadata": {},
   "outputs": [],
   "source": [
    "json_data = df['Genres'].apply(lambda x: json.loads(x) if isinstance(x, str) and x.strip() != '' else None)\n",
    "\n",
    "df['Genres'] = json_data.apply(lambda x: list(x.values()) if x else [])"
   ]
  },
  {
   "cell_type": "code",
   "execution_count": null,
   "id": "0b3e4992-f1f5-48c8-9f18-ed2ef294f87b",
   "metadata": {},
   "outputs": [],
   "source": []
  }
 ],
 "metadata": {
  "kernelspec": {
   "display_name": "Python 3 (ipykernel)",
   "language": "python",
   "name": "python3"
  },
  "language_info": {
   "codemirror_mode": {
    "name": "ipython",
    "version": 3
   },
   "file_extension": ".py",
   "mimetype": "text/x-python",
   "name": "python",
   "nbconvert_exporter": "python",
   "pygments_lexer": "ipython3",
   "version": "3.12.4"
  }
 },
 "nbformat": 4,
 "nbformat_minor": 5
}
